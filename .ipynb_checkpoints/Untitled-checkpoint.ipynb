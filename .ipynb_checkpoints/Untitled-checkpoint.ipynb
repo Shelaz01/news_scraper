{
 "cells": [
  {
   "cell_type": "markdown",
   "id": "944f3aba-facd-437c-bd54-bddb2122738f",
   "metadata": {},
   "source": [
    "## 1. Import Libraries"
   ]
  },
  {
   "cell_type": "code",
   "execution_count": 1,
   "id": "7957c072-58a7-483f-9b17-81f0d4345eca",
   "metadata": {},
   "outputs": [],
   "source": [
    "import pandas as pd\n",
    "from sklearn.feature_extraction.text import TfidfVectorizer\n",
    "from sklearn.cluster import KMeans\n",
    "from sklearn.decomposition import PCA\n",
    "import matplotlib.pyplot as plt\n",
    "import seaborn as sns\n"
   ]
  },
  {
   "cell_type": "markdown",
   "id": "3cf49e16-a4d0-476c-a204-12215768d8c7",
   "metadata": {},
   "source": [
    "## 2. Load and Combine Datasets"
   ]
  },
  {
   "cell_type": "code",
   "execution_count": 2,
   "id": "03c7e139-9bcb-4f15-ba15-29bec9c06d8d",
   "metadata": {},
   "outputs": [],
   "source": [
    "# Load CSVs\n",
    "bbc = pd.read_csv('bbc_articles.csv')\n",
    "aljazeera = pd.read_csv('aljazeera_articles.csv', encoding='ISO-8859-1')\n",
    "cbc = pd.read_csv('updated_cbc_articles.csv', encoding='ISO-8859-1')\n",
    "guardian = pd.read_csv('guardian_articles.csv', encoding='ISO-8859-1')\n",
    "\n",
    "# Combine all articles into one DataFrame\n",
    "df = pd.concat([bbc, aljazeera, cbc, guardian], ignore_index=True)\n"
   ]
  },
  {
   "cell_type": "code",
   "execution_count": 5,
   "id": "abe037ff-83b4-45a6-9ad4-61ecc39405e1",
   "metadata": {},
   "outputs": [
    {
     "data": {
      "text/html": [
       "<div>\n",
       "<style scoped>\n",
       "    .dataframe tbody tr th:only-of-type {\n",
       "        vertical-align: middle;\n",
       "    }\n",
       "\n",
       "    .dataframe tbody tr th {\n",
       "        vertical-align: top;\n",
       "    }\n",
       "\n",
       "    .dataframe thead th {\n",
       "        text-align: right;\n",
       "    }\n",
       "</style>\n",
       "<table border=\"1\" class=\"dataframe\">\n",
       "  <thead>\n",
       "    <tr style=\"text-align: right;\">\n",
       "      <th></th>\n",
       "      <th>headline</th>\n",
       "      <th>url</th>\n",
       "      <th>category</th>\n",
       "      <th>content</th>\n",
       "    </tr>\n",
       "  </thead>\n",
       "  <tbody>\n",
       "    <tr>\n",
       "      <th>0</th>\n",
       "      <td>UK's Deliveroo to be bought by US firm DoorDas...</td>\n",
       "      <td>https://www.bbc.com/news/articles/c5yr1nz7jwko</td>\n",
       "      <td>business</td>\n",
       "      <td>NaN</td>\n",
       "    </tr>\n",
       "    <tr>\n",
       "      <th>1</th>\n",
       "      <td>Car giant Ford and Barbie maker Mattel warn ov...</td>\n",
       "      <td>https://www.bbc.com/news/articles/cly1e7ll07do</td>\n",
       "      <td>business</td>\n",
       "      <td>NaN</td>\n",
       "    </tr>\n",
       "    <tr>\n",
       "      <th>2</th>\n",
       "      <td>World of Business</td>\n",
       "      <td>https://cloud.email.bbc.com/WorldofBusiness_Ne...</td>\n",
       "      <td>business</td>\n",
       "      <td>NaN</td>\n",
       "    </tr>\n",
       "    <tr>\n",
       "      <th>3</th>\n",
       "      <td>Trump considering 100% tariffs on movies not m...</td>\n",
       "      <td>https://www.bbc.com/news/articles/cjr7e2z1rxyo</td>\n",
       "      <td>business</td>\n",
       "      <td>NaN</td>\n",
       "    </tr>\n",
       "    <tr>\n",
       "      <th>4</th>\n",
       "      <td>OpenAI says non-profit will remain in control ...</td>\n",
       "      <td>https://www.bbc.com/news/articles/cwy603eg0w8o</td>\n",
       "      <td>business</td>\n",
       "      <td>NaN</td>\n",
       "    </tr>\n",
       "  </tbody>\n",
       "</table>\n",
       "</div>"
      ],
      "text/plain": [
       "                                            headline  \\\n",
       "0  UK's Deliveroo to be bought by US firm DoorDas...   \n",
       "1  Car giant Ford and Barbie maker Mattel warn ov...   \n",
       "2                                  World of Business   \n",
       "3  Trump considering 100% tariffs on movies not m...   \n",
       "4  OpenAI says non-profit will remain in control ...   \n",
       "\n",
       "                                                 url  category  content  \n",
       "0     https://www.bbc.com/news/articles/c5yr1nz7jwko  business      NaN  \n",
       "1     https://www.bbc.com/news/articles/cly1e7ll07do  business      NaN  \n",
       "2  https://cloud.email.bbc.com/WorldofBusiness_Ne...  business      NaN  \n",
       "3     https://www.bbc.com/news/articles/cjr7e2z1rxyo  business      NaN  \n",
       "4     https://www.bbc.com/news/articles/cwy603eg0w8o  business      NaN  "
      ]
     },
     "execution_count": 5,
     "metadata": {},
     "output_type": "execute_result"
    }
   ],
   "source": [
    "df.head()"
   ]
  },
  {
   "cell_type": "markdown",
   "id": "724d7b0c-b7ee-4e27-91e8-9bc693233a41",
   "metadata": {},
   "source": [
    "## 3. Preprocess Text (Use title only)"
   ]
  },
  {
   "cell_type": "code",
   "execution_count": 6,
   "id": "38424eef-6a33-4928-9ab9-7359711594be",
   "metadata": {},
   "outputs": [],
   "source": [
    "df.dropna(subset=['headline'], inplace=True)"
   ]
  },
  {
   "cell_type": "markdown",
   "id": "55342882-c616-48f8-abf5-059bb74f5b01",
   "metadata": {},
   "source": [
    "## 4. Vectorize the Titles\n"
   ]
  },
  {
   "cell_type": "code",
   "execution_count": 7,
   "id": "d52f8cb5-6224-4e76-a913-7507a43a019b",
   "metadata": {},
   "outputs": [],
   "source": [
    "vectorizer = TfidfVectorizer(stop_words='english')\n",
    "X = vectorizer.fit_transform(df['headline'])\n"
   ]
  },
  {
   "cell_type": "markdown",
   "id": "d43153c3-b3b2-4528-81d0-91f58430dc08",
   "metadata": {},
   "source": [
    "## 5. Apply KMeans Clustering"
   ]
  },
  {
   "cell_type": "code",
   "execution_count": 8,
   "id": "b4bcd7d3-478c-4a1c-bc3a-fb4aee6329ea",
   "metadata": {},
   "outputs": [
    {
     "name": "stderr",
     "output_type": "stream",
     "text": [
      "C:\\Users\\Shelton\\anaconda3\\envs\\mediapipe_env\\lib\\site-packages\\sklearn\\cluster\\_kmeans.py:1416: FutureWarning: The default value of `n_init` will change from 10 to 'auto' in 1.4. Set the value of `n_init` explicitly to suppress the warning\n",
      "  super()._check_params_vs_input(X, default_n_init=10)\n"
     ]
    }
   ],
   "source": [
    "k = 4  # 4 clusters: Politics, Business, Arts/Culture/Celebrities, Sports\n",
    "model = KMeans(n_clusters=k, random_state=42)\n",
    "df['cluster'] = model.fit_predict(X)\n"
   ]
  },
  {
   "cell_type": "markdown",
   "id": "8cab6461-f368-4966-bb12-40a5f6f892f5",
   "metadata": {},
   "source": [
    "### Map each cluster to the most frequent actual category"
   ]
  },
  {
   "cell_type": "code",
   "execution_count": null,
   "id": "fc18f576-ad83-4124-a212-e3151aa9a2cf",
   "metadata": {},
   "outputs": [],
   "source": [
    "cluster_map = {}\n",
    "\n",
    "for i in range(k):\n",
    "    # Get the actual categories in each cluster\n",
    "    cluster_categories = df[df['cluster'] == i]['category']\n",
    "    most_common_category = cluster_categories.mode()[0]  # most frequent category\n",
    "    cluster_map[i] = most_common_category\n",
    "\n",
    "# Add readable cluster names\n",
    "df['cluster_name'] = df['cluster'].map(cluster_map)"
   ]
  },
  {
   "cell_type": "markdown",
   "id": "fcc3a317-a9d8-4485-877f-5e2ec26c4613",
   "metadata": {},
   "source": [
    "### Reduce dimensions for visualization"
   ]
  },
  {
   "cell_type": "code",
   "execution_count": 9,
   "id": "4cfee88a-f3dd-48be-b1e2-7af3b3758b57",
   "metadata": {},
   "outputs": [],
   "source": [
    "pca = PCA(n_components=2)\n",
    "reduced = pca.fit_transform(X.toarray())\n"
   ]
  },
  {
   "cell_type": "markdown",
   "id": "11accc13-ef60-46f2-94b6-80dc22adc1d0",
   "metadata": {},
   "source": [
    "### Plot the clusters"
   ]
  },
  {
   "cell_type": "code",
   "execution_count": 10,
   "id": "ce2f7b62-3d66-4227-a744-03543f4ca590",
   "metadata": {},
   "outputs": [
    {
     "data": {
      "image/png": "[encoded data removed]",
      "text/plain": [
       "<Figure size 1000x600 with 1 Axes>"
      ]
     },
     "metadata": {},
     "output_type": "display_data"
    }
   ],
   "source": [
    "plt.figure(figsize=(10, 6))\n",
    "for cluster_name in df['cluster_name'].unique():\n",
    "    idx = df['cluster_name'] == cluster_name\n",
    "    plt.scatter(reduced[idx, 0], reduced[idx, 1], label=cluster_name)\n",
    "\n",
    "plt.legend()\n",
    "plt.title('News Articles Clustered by Category')\n",
    "plt.xlabel('PCA Component 1')\n",
    "plt.ylabel('PCA Component 2')\n",
    "plt.show()"
   ]
  },
  {
   "cell_type": "markdown",
   "id": "8e0bb8f8-02d3-465b-94b5-d65d55d6a6ea",
   "metadata": {},
   "source": [
    "## 6. Save the Clustered Data"
   ]
  },
  {
   "cell_type": "code",
   "execution_count": null,
   "id": "b0285648-2adb-483e-856b-fcfe5bc6e8f9",
   "metadata": {},
   "outputs": [],
   "source": [
    "df.to_csv('clustered_articles.csv', index=False)\n"
   ]
  },
  {
   "cell_type": "code",
   "execution_count": null,
   "id": "b6e469f5-3862-4494-92fc-06b2d0890666",
   "metadata": {},
   "outputs": [],
   "source": []
  },
  {
   "cell_type": "code",
   "execution_count": null,
   "id": "e67eeab2-4e83-4ea6-aa09-7455906bc343",
   "metadata": {},
   "outputs": [],
   "source": []
  },
  {
   "cell_type": "code",
   "execution_count": null,
   "id": "1983929a-aa62-460f-94d7-fca53d7f700b",
   "metadata": {},
   "outputs": [],
   "source": []
  }
 ],
 "metadata": {
  "kernelspec": {
   "display_name": "Python 3 (ipykernel)",
   "language": "python",
   "name": "python3"
  },
  "language_info": {
   "codemirror_mode": {
    "name": "ipython",
    "version": 3
   },
   "file_extension": ".py",
   "mimetype": "text/x-python",
   "name": "python",
   "nbconvert_exporter": "python",
   "pygments_lexer": "ipython3",
   "version": "3.8.18"
  }
 },
 "nbformat": 4,
 "nbformat_minor": 5
}
